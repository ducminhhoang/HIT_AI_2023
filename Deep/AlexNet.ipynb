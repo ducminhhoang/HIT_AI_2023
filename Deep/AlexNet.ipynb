{
 "cells": [
  {
   "attachments": {},
   "cell_type": "markdown",
   "metadata": {},
   "source": [
    "# AlexNet\n",
    "Giải quyết vấn đề phân loại ảnh imgage Classification\n",
    "\n",
    "[Link paper](https://proceedings.neurips.cc/paper_files/paper/2012/file/c399862d3b9d6b76c8436e924a68c45b-Paper.pdf)"
   ]
  },
  {
   "attachments": {},
   "cell_type": "markdown",
   "metadata": {},
   "source": [
    "## Cấu trúc\n",
    "Đầu vào với kích thước:\n",
    "- 227x227x3\n",
    "> Nếu ảnh chưa ở kích thước trên thì resize về"
   ]
  },
  {
   "attachments": {},
   "cell_type": "markdown",
   "metadata": {},
   "source": [
    "![](https://anhreynolds.com/img/alexnet.png)"
   ]
  },
  {
   "attachments": {},
   "cell_type": "markdown",
   "metadata": {},
   "source": [
    "- Prameters: 60M (much bigger than LeNet-5)\n",
    "- Activation Function: ReLu"
   ]
  }
 ],
 "metadata": {
  "language_info": {
   "name": "python"
  },
  "orig_nbformat": 4
 },
 "nbformat": 4,
 "nbformat_minor": 2
}
